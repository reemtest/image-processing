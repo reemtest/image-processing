{
 "cells": [
  {
   "cell_type": "code",
   "execution_count": 2,
   "id": "232dd2ee-325b-446f-8051-41522cbf2a1e",
   "metadata": {},
   "outputs": [],
   "source": [
    "import cv2\n",
    "import numpy as np\n",
    "import matplotlib.pyplot as plt\n",
    "plt.rcParams['figure.figsize'] = [10, 3]"
   ]
  },
  {
   "cell_type": "code",
   "execution_count": 1,
   "id": "3e37854c-57b2-49b5-ba8c-d0b979baecdd",
   "metadata": {},
   "outputs": [
    {
     "name": "stdout",
     "output_type": "stream",
     "text": [
      "(333, 333, 3)\n"
     ]
    }
   ],
   "source": [
    "import cv2\n",
    "point1=None\n",
    "point2=None\n",
    "\n",
    "\n",
    "def mouse_callback(event, x, y, flags, param):\n",
    "    global point1, point2, drawing\n",
    "\n",
    "    if event == cv2.EVENT_LBUTTONDOWN:\n",
    "        global y1,y2\n",
    "        if point1 is None:\n",
    "            point1 = (x,y) \n",
    "            y1=y\n",
    "            \n",
    "        elif point2 is None:\n",
    "            point2 = (x,y)\n",
    "            y2=y\n",
    "            \n",
    "        w = image.shape[1]\n",
    "        if point1 and point2:\n",
    "            cv2.rectangle(image, (0,y1), (w,y2), (150,0,100), -1)\n",
    "\n",
    "image = cv2.imread('concat2.jpg')\n",
    "print (image.shape)\n",
    "cv2.namedWindow('Image')\n",
    "cv2.setMouseCallback('Image', mouse_callback)\n",
    "\n",
    "while True:\n",
    "    cv2.imshow('Image', image)\n",
    "    key = cv2.waitKey(1)\n",
    "    if key == 27:\n",
    "        break\n",
    "\n",
    "cv2.destroyAllWindows()\n"
   ]
  },
  {
   "cell_type": "code",
   "execution_count": null,
   "id": "21e5dae1",
   "metadata": {},
   "outputs": [],
   "source": []
  },
  {
   "cell_type": "code",
   "execution_count": null,
   "id": "c29eaed1",
   "metadata": {},
   "outputs": [],
   "source": []
  }
 ],
 "metadata": {
  "kernelspec": {
   "display_name": "Python 3 (ipykernel)",
   "language": "python",
   "name": "python3"
  },
  "language_info": {
   "codemirror_mode": {
    "name": "ipython",
    "version": 3
   },
   "file_extension": ".py",
   "mimetype": "text/x-python",
   "name": "python",
   "nbconvert_exporter": "python",
   "pygments_lexer": "ipython3",
   "version": "3.11.5"
  }
 },
 "nbformat": 4,
 "nbformat_minor": 5
}
