{
 "cells": [
  {
   "cell_type": "code",
   "execution_count": null,
   "id": "232dd2ee-325b-446f-8051-41522cbf2a1e",
   "metadata": {},
   "outputs": [],
   "source": [
    "import cv2\n",
    "import numpy as np\n",
    "import matplotlib.pyplot as plt\n",
    "plt.rcParams['figure.figsize'] = [10, 3]"
   ]
  },
  {
   "cell_type": "code",
   "execution_count": null,
   "id": "3e37854c-57b2-49b5-ba8c-d0b979baecdd",
   "metadata": {},
   "outputs": [],
   "source": [
    "drawing = False\n",
    "ix,iy = -1,-1\n",
    "\n",
    "# define mouse callback function to draw circle\n",
    "def draw_rectangle(event, x, y, flags, param):\n",
    "   global ix, iy, drawing, img\n",
    "   if event == cv2.EVENT_LBUTTONDOWN:\n",
    "      drawing = True\n",
    "      ix = x\n",
    "      iy = y\n",
    "   elif event == cv2.EVENT_LBUTTONUP:\n",
    "      drawing = False\n",
    "      cv2.rectangle(img, (ix, iy),(x, y),(0, 255, 255),-1)\n",
    "\n",
    "# Create a black image\n",
    "img = np.zeros((512,700,3), np.uint8)\n",
    "\n",
    "# Create a window and bind the function to window\n",
    "cv2.namedWindow(\"Rectangle Window\")\n",
    "\n",
    "# Connect the mouse button to our callback function\n",
    "cv2.setMouseCallback(\"Rectangle Window\", draw_rectangle)\n",
    "\n",
    "# display the window\n",
    "while True:\n",
    "   cv2.imshow(\"Rectangle Window\", img)\n",
    "   if cv2.waitKey(10) == 27:\n",
    "    break\n",
    "cv2.destroyAllWindows()"
   ]
  }
 ],
 "metadata": {
  "kernelspec": {
   "display_name": "Python 3 (ipykernel)",
   "language": "python",
   "name": "python3"
  },
  "language_info": {
   "codemirror_mode": {
    "name": "ipython",
    "version": 3
   },
   "file_extension": ".py",
   "mimetype": "text/x-python",
   "name": "python",
   "nbconvert_exporter": "python",
   "pygments_lexer": "ipython3",
   "version": "3.11.5"
  }
 },
 "nbformat": 4,
 "nbformat_minor": 5
}
